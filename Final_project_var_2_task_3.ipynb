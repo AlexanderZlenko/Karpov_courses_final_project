{
 "cells": [
  {
   "cell_type": "code",
   "execution_count": 1,
   "metadata": {},
   "outputs": [],
   "source": [
    "import pandas as pd\n",
    "import numpy as np"
   ]
  },
  {
   "cell_type": "markdown",
   "metadata": {},
   "source": [
    "### Task 3 \n",
    "https://stepik.org/lesson/409319/step/1?unit=398652 - task description"
   ]
  },
  {
   "cell_type": "code",
   "execution_count": null,
   "metadata": {},
   "outputs": [],
   "source": [
    "SELECT \n",
    "    p.purchase_date,\n",
    "    p.purchase_id,\n",
    "    p.client_id,\n",
    "    datediff(YY, c.birth_date, getdate()) as client_age,\n",
    "    datediff(YY, c.registration, getdate()) as client_registration_age,\n",
    "    sub_join.client_category, \n",
    "    prom.promotion_name, \n",
    "    prom.category_name,\n",
    "    prom.partner_name,\n",
    "    city.client_city,\n",
    "    city.city,\n",
    "    p.price * p.quantity as revenue,\n",
    "    p.quantity\n",
    "FROM \n",
    "    purchase as p\n",
    "LEFT JOIN\n",
    "    client as c on c.client_id = p.client_id\n",
    "LEFT JOIN\n",
    "    promotion as prom on prom.promotion_id = p.promotion_id\n",
    "LEFT JOIN \n",
    "    city as city on city.city_id = p.city_id\n",
    "LEFT JOIN \n",
    "    (SELECT \n",
    "        p.client_id,\n",
    "        CASE WHEN MIN(p.purchase_date) = first_purchase THEN 'new' ELSE 'old' END client_category)\n",
    "    FROM \n",
    "        (SELECT \n",
    "            client_id,\n",
    "            MIN(purchase_date) OVER (PARTITON BY client_id) as first_purchase\n",
    "        FROM \n",
    "            purchase\n",
    "        GROUP BY \n",
    "            client_id,\n",
    "            first_purchase) as sub on sub.client_id = p.client_id\n",
    "    GROUP BY \n",
    "        p.client_id,\n",
    "        sub.client_category\n",
    "    ) as sub_join on sub_join.client_id = p.client_id \n",
    "WHERE \n",
    "    p.status = 1 \n",
    "AND\n",
    "    p.purchase_date between '01-05-2020' and '01-08-2020'\n",
    "    "
   ]
  },
  {
   "cell_type": "code",
   "execution_count": null,
   "metadata": {},
   "outputs": [],
   "source": []
  },
  {
   "cell_type": "code",
   "execution_count": null,
   "metadata": {},
   "outputs": [],
   "source": []
  },
  {
   "cell_type": "code",
   "execution_count": null,
   "metadata": {},
   "outputs": [],
   "source": []
  },
  {
   "cell_type": "code",
   "execution_count": null,
   "metadata": {},
   "outputs": [],
   "source": []
  },
  {
   "cell_type": "code",
   "execution_count": null,
   "metadata": {},
   "outputs": [],
   "source": []
  },
  {
   "cell_type": "code",
   "execution_count": null,
   "metadata": {},
   "outputs": [],
   "source": []
  },
  {
   "cell_type": "code",
   "execution_count": null,
   "metadata": {},
   "outputs": [],
   "source": []
  }
 ],
 "metadata": {
  "kernelspec": {
   "display_name": "Python 3",
   "language": "python",
   "name": "python3"
  },
  "language_info": {
   "codemirror_mode": {
    "name": "ipython",
    "version": 3
   },
   "file_extension": ".py",
   "mimetype": "text/x-python",
   "name": "python",
   "nbconvert_exporter": "python",
   "pygments_lexer": "ipython3",
   "version": "3.7.4"
  }
 },
 "nbformat": 4,
 "nbformat_minor": 4
}
