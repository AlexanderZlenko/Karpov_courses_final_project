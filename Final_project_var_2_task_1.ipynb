{
 "cells": [
  {
   "cell_type": "code",
   "execution_count": 1,
   "metadata": {},
   "outputs": [],
   "source": [
    "import pandas as pd\n",
    "import numpy as np\n",
    "from itertools import combinations\n",
    "from collections import Counter"
   ]
  },
  {
   "cell_type": "markdown",
   "metadata": {},
   "source": [
    "### Read our dataframe"
   ]
  },
  {
   "cell_type": "code",
   "execution_count": 2,
   "metadata": {},
   "outputs": [],
   "source": [
    "df = pd.read_csv('https://stepik.org/media/attachments/lesson/409319/test1_completed.csv')"
   ]
  },
  {
   "cell_type": "markdown",
   "metadata": {},
   "source": [
    "### Let's check the structure of our df"
   ]
  },
  {
   "cell_type": "code",
   "execution_count": 3,
   "metadata": {},
   "outputs": [
    {
     "data": {
      "text/html": [
       "<div>\n",
       "<style scoped>\n",
       "    .dataframe tbody tr th:only-of-type {\n",
       "        vertical-align: middle;\n",
       "    }\n",
       "\n",
       "    .dataframe tbody tr th {\n",
       "        vertical-align: top;\n",
       "    }\n",
       "\n",
       "    .dataframe thead th {\n",
       "        text-align: right;\n",
       "    }\n",
       "</style>\n",
       "<table border=\"1\" class=\"dataframe\">\n",
       "  <thead>\n",
       "    <tr style=\"text-align: right;\">\n",
       "      <th></th>\n",
       "      <th>id</th>\n",
       "      <th>Товар</th>\n",
       "      <th>Количество</th>\n",
       "    </tr>\n",
       "  </thead>\n",
       "  <tbody>\n",
       "    <tr>\n",
       "      <td>0</td>\n",
       "      <td>17119</td>\n",
       "      <td>Лимон</td>\n",
       "      <td>1.1</td>\n",
       "    </tr>\n",
       "    <tr>\n",
       "      <td>1</td>\n",
       "      <td>17119</td>\n",
       "      <td>Лимон оранжевый</td>\n",
       "      <td>0.7</td>\n",
       "    </tr>\n",
       "    <tr>\n",
       "      <td>2</td>\n",
       "      <td>17119</td>\n",
       "      <td>Лук-порей</td>\n",
       "      <td>10.0</td>\n",
       "    </tr>\n",
       "    <tr>\n",
       "      <td>3</td>\n",
       "      <td>17119</td>\n",
       "      <td>Лук репчатый</td>\n",
       "      <td>2.5</td>\n",
       "    </tr>\n",
       "    <tr>\n",
       "      <td>4</td>\n",
       "      <td>17119</td>\n",
       "      <td>Малина свежая</td>\n",
       "      <td>1.0</td>\n",
       "    </tr>\n",
       "  </tbody>\n",
       "</table>\n",
       "</div>"
      ],
      "text/plain": [
       "      id            Товар  Количество\n",
       "0  17119            Лимон         1.1\n",
       "1  17119  Лимон оранжевый         0.7\n",
       "2  17119        Лук-порей        10.0\n",
       "3  17119     Лук репчатый         2.5\n",
       "4  17119    Малина свежая         1.0"
      ]
     },
     "execution_count": 3,
     "metadata": {},
     "output_type": "execute_result"
    }
   ],
   "source": [
    "df.head()"
   ]
  },
  {
   "cell_type": "code",
   "execution_count": 4,
   "metadata": {},
   "outputs": [],
   "source": [
    "initial_df_shape = df.shape"
   ]
  },
  {
   "cell_type": "markdown",
   "metadata": {},
   "source": [
    "#### Let's rename columns "
   ]
  },
  {
   "cell_type": "code",
   "execution_count": 5,
   "metadata": {},
   "outputs": [],
   "source": [
    "df = df.rename(columns={\"id\": \"order_id\", \"Товар\": \"goods\", \"Количество\": \"quantity\"})"
   ]
  },
  {
   "cell_type": "markdown",
   "metadata": {},
   "source": [
    "#### I'm just wondering if we have some orders with only one purchase"
   ]
  },
  {
   "cell_type": "code",
   "execution_count": 6,
   "metadata": {},
   "outputs": [],
   "source": [
    "duplicated_df = df[df['order_id'].duplicated(keep=False)]"
   ]
  },
  {
   "cell_type": "code",
   "execution_count": 7,
   "metadata": {},
   "outputs": [],
   "source": [
    "duplicated_df_shape = duplicated_df.shape"
   ]
  },
  {
   "cell_type": "code",
   "execution_count": 8,
   "metadata": {},
   "outputs": [
    {
     "data": {
      "text/plain": [
       "139"
      ]
     },
     "execution_count": 8,
     "metadata": {},
     "output_type": "execute_result"
    }
   ],
   "source": [
    "initial_df_shape[0] - duplicated_df_shape[0] # Looks like we have some orders with just one purchsed item "
   ]
  },
  {
   "cell_type": "markdown",
   "metadata": {},
   "source": [
    "#### But I'd like to check this in one more way just to be sure"
   ]
  },
  {
   "cell_type": "code",
   "execution_count": 9,
   "metadata": {},
   "outputs": [],
   "source": [
    "non_duplicated = df.groupby('order_id').count().query('goods == 1')"
   ]
  },
  {
   "cell_type": "code",
   "execution_count": 10,
   "metadata": {},
   "outputs": [
    {
     "data": {
      "text/plain": [
       "(139, 2)"
      ]
     },
     "execution_count": 10,
     "metadata": {},
     "output_type": "execute_result"
    }
   ],
   "source": [
    "non_duplicated.shape # Yes, thats true. We have some bunch of such orders"
   ]
  },
  {
   "cell_type": "markdown",
   "metadata": {},
   "source": [
    "#### Now we need to place all purchased items for eache order in one line "
   ]
  },
  {
   "cell_type": "code",
   "execution_count": 11,
   "metadata": {},
   "outputs": [
    {
     "name": "stderr",
     "output_type": "stream",
     "text": [
      "/Users/aleksandrzlenko/opt/anaconda3/lib/python3.7/site-packages/ipykernel_launcher.py:1: SettingWithCopyWarning: \n",
      "A value is trying to be set on a copy of a slice from a DataFrame.\n",
      "Try using .loc[row_indexer,col_indexer] = value instead\n",
      "\n",
      "See the caveats in the documentation: http://pandas.pydata.org/pandas-docs/stable/user_guide/indexing.html#returning-a-view-versus-a-copy\n",
      "  \"\"\"Entry point for launching an IPython kernel.\n"
     ]
    }
   ],
   "source": [
    "duplicated_df['all_goods'] =  duplicated_df.groupby('order_id')['goods'].transform(lambda x: ','.join(x))"
   ]
  },
  {
   "cell_type": "code",
   "execution_count": 12,
   "metadata": {},
   "outputs": [
    {
     "data": {
      "text/html": [
       "<div>\n",
       "<style scoped>\n",
       "    .dataframe tbody tr th:only-of-type {\n",
       "        vertical-align: middle;\n",
       "    }\n",
       "\n",
       "    .dataframe tbody tr th {\n",
       "        vertical-align: top;\n",
       "    }\n",
       "\n",
       "    .dataframe thead th {\n",
       "        text-align: right;\n",
       "    }\n",
       "</style>\n",
       "<table border=\"1\" class=\"dataframe\">\n",
       "  <thead>\n",
       "    <tr style=\"text-align: right;\">\n",
       "      <th></th>\n",
       "      <th>order_id</th>\n",
       "      <th>goods</th>\n",
       "      <th>quantity</th>\n",
       "      <th>all_goods</th>\n",
       "    </tr>\n",
       "  </thead>\n",
       "  <tbody>\n",
       "    <tr>\n",
       "      <td>0</td>\n",
       "      <td>17119</td>\n",
       "      <td>Лимон</td>\n",
       "      <td>1.1</td>\n",
       "      <td>Лимон,Лимон оранжевый,Лук-порей,Лук репчатый,М...</td>\n",
       "    </tr>\n",
       "    <tr>\n",
       "      <td>1</td>\n",
       "      <td>17119</td>\n",
       "      <td>Лимон оранжевый</td>\n",
       "      <td>0.7</td>\n",
       "      <td>Лимон,Лимон оранжевый,Лук-порей,Лук репчатый,М...</td>\n",
       "    </tr>\n",
       "    <tr>\n",
       "      <td>2</td>\n",
       "      <td>17119</td>\n",
       "      <td>Лук-порей</td>\n",
       "      <td>10.0</td>\n",
       "      <td>Лимон,Лимон оранжевый,Лук-порей,Лук репчатый,М...</td>\n",
       "    </tr>\n",
       "    <tr>\n",
       "      <td>3</td>\n",
       "      <td>17119</td>\n",
       "      <td>Лук репчатый</td>\n",
       "      <td>2.5</td>\n",
       "      <td>Лимон,Лимон оранжевый,Лук-порей,Лук репчатый,М...</td>\n",
       "    </tr>\n",
       "    <tr>\n",
       "      <td>4</td>\n",
       "      <td>17119</td>\n",
       "      <td>Малина свежая</td>\n",
       "      <td>1.0</td>\n",
       "      <td>Лимон,Лимон оранжевый,Лук-порей,Лук репчатый,М...</td>\n",
       "    </tr>\n",
       "  </tbody>\n",
       "</table>\n",
       "</div>"
      ],
      "text/plain": [
       "   order_id            goods  quantity  \\\n",
       "0     17119            Лимон       1.1   \n",
       "1     17119  Лимон оранжевый       0.7   \n",
       "2     17119        Лук-порей      10.0   \n",
       "3     17119     Лук репчатый       2.5   \n",
       "4     17119    Малина свежая       1.0   \n",
       "\n",
       "                                           all_goods  \n",
       "0  Лимон,Лимон оранжевый,Лук-порей,Лук репчатый,М...  \n",
       "1  Лимон,Лимон оранжевый,Лук-порей,Лук репчатый,М...  \n",
       "2  Лимон,Лимон оранжевый,Лук-порей,Лук репчатый,М...  \n",
       "3  Лимон,Лимон оранжевый,Лук-порей,Лук репчатый,М...  \n",
       "4  Лимон,Лимон оранжевый,Лук-порей,Лук репчатый,М...  "
      ]
     },
     "execution_count": 12,
     "metadata": {},
     "output_type": "execute_result"
    }
   ],
   "source": [
    "duplicated_df.head()"
   ]
  },
  {
   "cell_type": "markdown",
   "metadata": {},
   "source": [
    "#### Now we need to drop duplicated values "
   ]
  },
  {
   "cell_type": "code",
   "execution_count": 13,
   "metadata": {},
   "outputs": [],
   "source": [
    "final_df = duplicated_df[['order_id', 'all_goods']].drop_duplicates()"
   ]
  },
  {
   "cell_type": "code",
   "execution_count": 14,
   "metadata": {},
   "outputs": [
    {
     "data": {
      "text/html": [
       "<div>\n",
       "<style scoped>\n",
       "    .dataframe tbody tr th:only-of-type {\n",
       "        vertical-align: middle;\n",
       "    }\n",
       "\n",
       "    .dataframe tbody tr th {\n",
       "        vertical-align: top;\n",
       "    }\n",
       "\n",
       "    .dataframe thead th {\n",
       "        text-align: right;\n",
       "    }\n",
       "</style>\n",
       "<table border=\"1\" class=\"dataframe\">\n",
       "  <thead>\n",
       "    <tr style=\"text-align: right;\">\n",
       "      <th></th>\n",
       "      <th>order_id</th>\n",
       "      <th>all_goods</th>\n",
       "    </tr>\n",
       "  </thead>\n",
       "  <tbody>\n",
       "    <tr>\n",
       "      <td>0</td>\n",
       "      <td>17119</td>\n",
       "      <td>Лимон,Лимон оранжевый,Лук-порей,Лук репчатый,М...</td>\n",
       "    </tr>\n",
       "    <tr>\n",
       "      <td>7</td>\n",
       "      <td>17530</td>\n",
       "      <td>Лимон оранжевый,Изюм Султана,Капуста цветная,Б...</td>\n",
       "    </tr>\n",
       "    <tr>\n",
       "      <td>19</td>\n",
       "      <td>17618</td>\n",
       "      <td>Абрикосы молдавские,Кукуруза мини,Грибы лисичк...</td>\n",
       "    </tr>\n",
       "    <tr>\n",
       "      <td>41</td>\n",
       "      <td>17724</td>\n",
       "      <td>Абрикосы молдавские,Арбуз,Салат Айсберг,Галанг...</td>\n",
       "    </tr>\n",
       "    <tr>\n",
       "      <td>55</td>\n",
       "      <td>17814</td>\n",
       "      <td>Арбуз,Кабачки,Кинза,Малина свежая,Морковь мыта...</td>\n",
       "    </tr>\n",
       "  </tbody>\n",
       "</table>\n",
       "</div>"
      ],
      "text/plain": [
       "    order_id                                          all_goods\n",
       "0      17119  Лимон,Лимон оранжевый,Лук-порей,Лук репчатый,М...\n",
       "7      17530  Лимон оранжевый,Изюм Султана,Капуста цветная,Б...\n",
       "19     17618  Абрикосы молдавские,Кукуруза мини,Грибы лисичк...\n",
       "41     17724  Абрикосы молдавские,Арбуз,Салат Айсберг,Галанг...\n",
       "55     17814  Арбуз,Кабачки,Кинза,Малина свежая,Морковь мыта..."
      ]
     },
     "execution_count": 14,
     "metadata": {},
     "output_type": "execute_result"
    }
   ],
   "source": [
    "final_df.head()"
   ]
  },
  {
   "cell_type": "markdown",
   "metadata": {},
   "source": [
    "#### Okay, let's make the final step"
   ]
  },
  {
   "cell_type": "code",
   "execution_count": 22,
   "metadata": {},
   "outputs": [
    {
     "name": "stdout",
     "output_type": "stream",
     "text": [
      "('Огурцы Луховицкие', 'Укроп') 403\n",
      "('Петрушка', 'Укроп') 390\n",
      "('Арбуз', 'Огурцы Луховицкие') 314\n",
      "('Кабачки', 'Огурцы Луховицкие') 300\n",
      "('Кинза', 'Укроп') 290\n",
      "('Лук зеленый', 'Укроп') 287\n",
      "('Кабачки', 'Укроп') 267\n",
      "('Арбуз', 'Укроп') 266\n",
      "('Баклажаны грунтовые', 'Кабачки') 264\n",
      "('Огурцы Луховицкие', 'Петрушка') 260\n"
     ]
    }
   ],
   "source": [
    "count = Counter()\n",
    "\n",
    "for row in final_df['all_goods']:\n",
    "    row_list = row.split(',')\n",
    "    count.update(Counter(combinations(row_list, 2)))\n",
    "\n",
    "for key, value in count.most_common(10):\n",
    "    print(key, value)\n"
   ]
  },
  {
   "cell_type": "markdown",
   "metadata": {},
   "source": [
    "#### Some conclusions"
   ]
  },
  {
   "cell_type": "code",
   "execution_count": null,
   "metadata": {},
   "outputs": [],
   "source": [
    "# It seems we are selling vegatables and fruits\n",
    "# Looks like the most common goods sold together are vegetables \n",
    "# Realy supprised not to see tomatos in this list "
   ]
  }
 ],
 "metadata": {
  "kernelspec": {
   "display_name": "Python 3",
   "language": "python",
   "name": "python3"
  },
  "language_info": {
   "codemirror_mode": {
    "name": "ipython",
    "version": 3
   },
   "file_extension": ".py",
   "mimetype": "text/x-python",
   "name": "python",
   "nbconvert_exporter": "python",
   "pygments_lexer": "ipython3",
   "version": "3.7.4"
  }
 },
 "nbformat": 4,
 "nbformat_minor": 4
}
